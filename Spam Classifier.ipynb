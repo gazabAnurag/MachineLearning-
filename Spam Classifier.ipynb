{
 "cells": [
  {
   "cell_type": "code",
   "execution_count": 114,
   "metadata": {},
   "outputs": [],
   "source": [
    "import numpy as np\n",
    "import pandas as pd\n",
    "import re\n",
    "import matplotlib.pyplot as plt\n",
    "from sklearn.datasets import dump_svmlight_file\n",
    "from sklearn.datasets import load_svmlight_file\n",
    "import sklearn.svm.libsvm as libsvm\n",
    "from sklearn.model_selection import GridSearchCV\n",
    "from sklearn.model_selection import cross_validate\n",
    "from sklearn import metrics\n",
    "from sklearn.metrics import accuracy_score, log_loss\n",
    "from sklearn.pipeline import Pipeline\n",
    "from sklearn.svm import SVC\n",
    "from sklearn_evaluation import plot\n",
    "from random import shuffle\n",
    "import warnings\n",
    "warnings.filterwarnings('ignore')"
   ]
  },
  {
   "cell_type": "code",
   "execution_count": 108,
   "metadata": {},
   "outputs": [],
   "source": [
    "#method to split the train and test set \n",
    "def train_test(X,y):\n",
    "    indices = np.arange(X.shape[0])\n",
    "    shuffle(indices)\n",
    "    X_shuffled=X[list(indices)]\n",
    "    y_shuffled=y[list(indices)]\n",
    "    train_X = X_shuffled[:int(0.7*X.shape[0])]\n",
    "    train_Y = y_shuffled[:int(0.7*X.shape[0])]\n",
    "    test_X = X_shuffled[int(0.7*X.shape[0]):]\n",
    "    test_Y = y_shuffled[int(0.7*X.shape[0]):]\n",
    "    return train_X,train_Y,test_X,test_Y"
   ]
  },
  {
   "cell_type": "code",
   "execution_count": 100,
   "metadata": {},
   "outputs": [],
   "source": [
    "def libSVM(data, path):\n",
    "    \"\"\"<label><index>:<value>\"\"\"\n",
    "    with open(path, 'a') as file:\n",
    "        for _,row in data.iterrows():\n",
    "            #label \n",
    "            contentString = str(row[max(rating_data.columns)])\n",
    "            for col in range(0,max(data.columns)):\n",
    "                if(row[col]!=0):\n",
    "                    contentString=contentString+\" \"+str(col)+\":\"+str(row[col]) #index:value\n",
    "            #print(contentString)\n",
    "            contentString=contentString+\"\\n\"\n",
    "            file.write(contentString)"
   ]
  },
  {
   "cell_type": "code",
   "execution_count": 161,
   "metadata": {},
   "outputs": [
    {
     "data": {
      "text/html": [
       "<div>\n",
       "<style scoped>\n",
       "    .dataframe tbody tr th:only-of-type {\n",
       "        vertical-align: middle;\n",
       "    }\n",
       "\n",
       "    .dataframe tbody tr th {\n",
       "        vertical-align: top;\n",
       "    }\n",
       "\n",
       "    .dataframe thead th {\n",
       "        text-align: right;\n",
       "    }\n",
       "</style>\n",
       "<table border=\"1\" class=\"dataframe\">\n",
       "  <thead>\n",
       "    <tr style=\"text-align: right;\">\n",
       "      <th></th>\n",
       "      <th>0</th>\n",
       "      <th>1</th>\n",
       "      <th>2</th>\n",
       "      <th>3</th>\n",
       "      <th>4</th>\n",
       "      <th>5</th>\n",
       "      <th>6</th>\n",
       "      <th>7</th>\n",
       "      <th>8</th>\n",
       "      <th>9</th>\n",
       "      <th>...</th>\n",
       "      <th>48</th>\n",
       "      <th>49</th>\n",
       "      <th>50</th>\n",
       "      <th>51</th>\n",
       "      <th>52</th>\n",
       "      <th>53</th>\n",
       "      <th>54</th>\n",
       "      <th>55</th>\n",
       "      <th>56</th>\n",
       "      <th>57</th>\n",
       "    </tr>\n",
       "  </thead>\n",
       "  <tbody>\n",
       "    <tr>\n",
       "      <th>0</th>\n",
       "      <td>0.00</td>\n",
       "      <td>0.64</td>\n",
       "      <td>0.64</td>\n",
       "      <td>0.0</td>\n",
       "      <td>0.32</td>\n",
       "      <td>0.00</td>\n",
       "      <td>0.00</td>\n",
       "      <td>0.00</td>\n",
       "      <td>0.00</td>\n",
       "      <td>0.00</td>\n",
       "      <td>...</td>\n",
       "      <td>0.00</td>\n",
       "      <td>0.000</td>\n",
       "      <td>0.0</td>\n",
       "      <td>0.778</td>\n",
       "      <td>0.000</td>\n",
       "      <td>0.000</td>\n",
       "      <td>3.756</td>\n",
       "      <td>61</td>\n",
       "      <td>278</td>\n",
       "      <td>1</td>\n",
       "    </tr>\n",
       "    <tr>\n",
       "      <th>1</th>\n",
       "      <td>0.21</td>\n",
       "      <td>0.28</td>\n",
       "      <td>0.50</td>\n",
       "      <td>0.0</td>\n",
       "      <td>0.14</td>\n",
       "      <td>0.28</td>\n",
       "      <td>0.21</td>\n",
       "      <td>0.07</td>\n",
       "      <td>0.00</td>\n",
       "      <td>0.94</td>\n",
       "      <td>...</td>\n",
       "      <td>0.00</td>\n",
       "      <td>0.132</td>\n",
       "      <td>0.0</td>\n",
       "      <td>0.372</td>\n",
       "      <td>0.180</td>\n",
       "      <td>0.048</td>\n",
       "      <td>5.114</td>\n",
       "      <td>101</td>\n",
       "      <td>1028</td>\n",
       "      <td>1</td>\n",
       "    </tr>\n",
       "    <tr>\n",
       "      <th>2</th>\n",
       "      <td>0.06</td>\n",
       "      <td>0.00</td>\n",
       "      <td>0.71</td>\n",
       "      <td>0.0</td>\n",
       "      <td>1.23</td>\n",
       "      <td>0.19</td>\n",
       "      <td>0.19</td>\n",
       "      <td>0.12</td>\n",
       "      <td>0.64</td>\n",
       "      <td>0.25</td>\n",
       "      <td>...</td>\n",
       "      <td>0.01</td>\n",
       "      <td>0.143</td>\n",
       "      <td>0.0</td>\n",
       "      <td>0.276</td>\n",
       "      <td>0.184</td>\n",
       "      <td>0.010</td>\n",
       "      <td>9.821</td>\n",
       "      <td>485</td>\n",
       "      <td>2259</td>\n",
       "      <td>1</td>\n",
       "    </tr>\n",
       "    <tr>\n",
       "      <th>3</th>\n",
       "      <td>0.00</td>\n",
       "      <td>0.00</td>\n",
       "      <td>0.00</td>\n",
       "      <td>0.0</td>\n",
       "      <td>0.63</td>\n",
       "      <td>0.00</td>\n",
       "      <td>0.31</td>\n",
       "      <td>0.63</td>\n",
       "      <td>0.31</td>\n",
       "      <td>0.63</td>\n",
       "      <td>...</td>\n",
       "      <td>0.00</td>\n",
       "      <td>0.137</td>\n",
       "      <td>0.0</td>\n",
       "      <td>0.137</td>\n",
       "      <td>0.000</td>\n",
       "      <td>0.000</td>\n",
       "      <td>3.537</td>\n",
       "      <td>40</td>\n",
       "      <td>191</td>\n",
       "      <td>1</td>\n",
       "    </tr>\n",
       "    <tr>\n",
       "      <th>4</th>\n",
       "      <td>0.00</td>\n",
       "      <td>0.00</td>\n",
       "      <td>0.00</td>\n",
       "      <td>0.0</td>\n",
       "      <td>0.63</td>\n",
       "      <td>0.00</td>\n",
       "      <td>0.31</td>\n",
       "      <td>0.63</td>\n",
       "      <td>0.31</td>\n",
       "      <td>0.63</td>\n",
       "      <td>...</td>\n",
       "      <td>0.00</td>\n",
       "      <td>0.135</td>\n",
       "      <td>0.0</td>\n",
       "      <td>0.135</td>\n",
       "      <td>0.000</td>\n",
       "      <td>0.000</td>\n",
       "      <td>3.537</td>\n",
       "      <td>40</td>\n",
       "      <td>191</td>\n",
       "      <td>1</td>\n",
       "    </tr>\n",
       "  </tbody>\n",
       "</table>\n",
       "<p>5 rows × 58 columns</p>\n",
       "</div>"
      ],
      "text/plain": [
       "     0     1     2    3     4     5     6     7     8     9  ...    48     49  \\\n",
       "0  0.00  0.64  0.64  0.0  0.32  0.00  0.00  0.00  0.00  0.00 ...  0.00  0.000   \n",
       "1  0.21  0.28  0.50  0.0  0.14  0.28  0.21  0.07  0.00  0.94 ...  0.00  0.132   \n",
       "2  0.06  0.00  0.71  0.0  1.23  0.19  0.19  0.12  0.64  0.25 ...  0.01  0.143   \n",
       "3  0.00  0.00  0.00  0.0  0.63  0.00  0.31  0.63  0.31  0.63 ...  0.00  0.137   \n",
       "4  0.00  0.00  0.00  0.0  0.63  0.00  0.31  0.63  0.31  0.63 ...  0.00  0.135   \n",
       "\n",
       "    50     51     52     53     54   55    56  57  \n",
       "0  0.0  0.778  0.000  0.000  3.756   61   278   1  \n",
       "1  0.0  0.372  0.180  0.048  5.114  101  1028   1  \n",
       "2  0.0  0.276  0.184  0.010  9.821  485  2259   1  \n",
       "3  0.0  0.137  0.000  0.000  3.537   40   191   1  \n",
       "4  0.0  0.135  0.000  0.000  3.537   40   191   1  \n",
       "\n",
       "[5 rows x 58 columns]"
      ]
     },
     "execution_count": 161,
     "metadata": {},
     "output_type": "execute_result"
    }
   ],
   "source": [
    "#in case we wish to load the column names for the words\n",
    "with open(r'D:\\Exercises\\ML Lab\\colnames.txt') as f:\n",
    "    content = f.readlines()\n",
    "content = [re.sub(':', '', x.strip()) for x in content] \n",
    "#read the data\n",
    "freq_data =  pd.read_csv(r'D:\\Exercises\\ML Lab\\spambase.data', sep=',',header = None,index_col=False)\n",
    "freq_data.head()"
   ]
  },
  {
   "cell_type": "code",
   "execution_count": 172,
   "metadata": {},
   "outputs": [
    {
     "data": {
      "image/png": "[encoded data removed]",
      "text/plain": [
       "<Figure size 432x288 with 1 Axes>"
      ]
     },
     "metadata": {},
     "output_type": "display_data"
    }
   ],
   "source": [
    "y = freq_data.iloc[57]\n",
    "#class distribution of Spam Ham \n",
    "explode = (0, 0.1)\n",
    "fig1, ax1 = plt.subplots()\n",
    "ax1.pie([(y == 0).sum(),(y == 1).sum()], explode=explode, labels=['Ham','Spam'], autopct='%1.1f%%',\n",
    "        shadow=True, startangle=90)\n",
    "ax1.axis('equal')  # Plot a pie chart to describe the data we have \n",
    "\n",
    "plt.show()"
   ]
  },
  {
   "cell_type": "markdown",
   "metadata": {},
   "source": [
    "#### We can see that spam class has very low representation, naturally even worst of all our model will given 98% accuracy due to poor class representation, hence we need to focus on precision to evaluate our model."
   ]
  },
  {
   "cell_type": "code",
   "execution_count": 99,
   "metadata": {},
   "outputs": [
    {
     "name": "stdout",
     "output_type": "stream",
     "text": [
      "1.0 1:0.64 2:0.64 4:0.32 11:0.64 15:0.32 17:1.29 18:1.93 20:0.96 51:0.778 54:3.7560000000000002 55:61.0 56:278.0\n",
      "1.0 0:0.21 1:0.28 2:0.5 4:0.14 5:0.28 6:0.21 7:0.07 9:0.94 10:0.21 11:0.79 12:0.65 13:0.21 14:0.14 15:0.14 16:0.07 17:0.28 18:3.47 20:1.59 22:0.43 23:0.43 36:0.07 49:0.132 51:0.37200000000000005 52:0.18 53:0.048 54:5.114 55:101.0 56:1028.0\n",
      "1.0 0:0.06 2:0.71 4:1.23 5:0.19 6:0.19 7:0.12 8:0.64 9:0.25 10:0.38 11:0.45 12:0.12 14:1.75 15:0.06 16:0.06 17:1.03 18:1.36 19:0.32 20:0.51 22:1.16 23:0.06 39:0.06 42:0.12 44:0.06 45:0.06 48:0.01 49:0.14300000000000002 51:0.276 52:0.184 53:0.01 54:9.821 55:485.0 56:2259.0\n"
     ]
    }
   ],
   "source": [
    "#save the data into test.dat file\n",
    "libSVM(freq_data,\"test.dat\")\n",
    "#the format rendered by our function "
   ]
  },
  {
   "cell_type": "code",
   "execution_count": 104,
   "metadata": {},
   "outputs": [
    {
     "data": {
      "text/plain": [
       "((4601, 57), (4601, 58))"
      ]
     },
     "execution_count": 104,
     "metadata": {},
     "output_type": "execute_result"
    }
   ],
   "source": [
    "#scikit method to load the lightSVM format\n",
    "X,y = load_svmlight_file(\"test.dat\")\n",
    "#loading the file we created using load_svmlight_file into data and response\n",
    "X.shape,freq_data.shape"
   ]
  },
  {
   "cell_type": "markdown",
   "metadata": {},
   "source": [
    "#### Libsvm format contains one less column of our response variable"
   ]
  },
  {
   "cell_type": "markdown",
   "metadata": {},
   "source": [
    "### Train the SVC over grid of HPs"
   ]
  },
  {
   "cell_type": "code",
   "execution_count": 141,
   "metadata": {},
   "outputs": [],
   "source": [
    "#split the data in train and test\n",
    "train_x,train_y,test_x,test_y = train_test(X,y)\n",
    "#range of hyperparameters\n",
    "list_C = np.arange(1, 1500, 10) #100000\n",
    "#create a list to store the all the score\n",
    "score_train = np.zeros(len(list_C))\n",
    "score_test = np.zeros(len(list_C))\n",
    "recall_test = np.zeros(len(list_C))\n",
    "precision_test= np.zeros(len(list_C))\n",
    "logloss_test= np.zeros(len(list_C))\n",
    "count = 0\n",
    "for C in list_C:\n",
    "    #create the model and fit using C values\n",
    "    svc = SVC(C=C)\n",
    "    svc.fit(train_x, train_y)\n",
    "    #evaluate the metrics\n",
    "    score_train[count] = svc.score(train_x, train_y)\n",
    "    score_test[count]= svc.score(test_x, test_y)\n",
    "    predicted = svc.predict(test_x)\n",
    "    recall_test[count] = metrics.recall_score(test_y, predicted)\n",
    "    precision_test[count] = metrics.precision_score(test_y, predicted)\n",
    "    logloss_test[count] = log_loss(test_y, predicted)\n",
    "    count = count + 1 "
   ]
  },
  {
   "cell_type": "code",
   "execution_count": 142,
   "metadata": {},
   "outputs": [
    {
     "data": {
      "text/plain": [
       "(150, 6)"
      ]
     },
     "execution_count": 142,
     "metadata": {},
     "output_type": "execute_result"
    }
   ],
   "source": [
    "#create a matrix for our analysis \n",
    "np.c_[list_C, score_train, score_test, recall_test, precision_test,logloss_test].shape"
   ]
  },
  {
   "cell_type": "code",
   "execution_count": 143,
   "metadata": {},
   "outputs": [
    {
     "data": {
      "text/html": [
       "<div>\n",
       "<style scoped>\n",
       "    .dataframe tbody tr th:only-of-type {\n",
       "        vertical-align: middle;\n",
       "    }\n",
       "\n",
       "    .dataframe tbody tr th {\n",
       "        vertical-align: top;\n",
       "    }\n",
       "\n",
       "    .dataframe thead th {\n",
       "        text-align: right;\n",
       "    }\n",
       "</style>\n",
       "<table border=\"1\" class=\"dataframe\">\n",
       "  <thead>\n",
       "    <tr style=\"text-align: right;\">\n",
       "      <th></th>\n",
       "      <th>C</th>\n",
       "      <th>Train Accuracy</th>\n",
       "      <th>Test Accuracy</th>\n",
       "      <th>Test Recall</th>\n",
       "      <th>Test Precision</th>\n",
       "      <th>Log loss</th>\n",
       "    </tr>\n",
       "  </thead>\n",
       "  <tbody>\n",
       "    <tr>\n",
       "      <th>0</th>\n",
       "      <td>1.0</td>\n",
       "      <td>0.946584</td>\n",
       "      <td>0.818972</td>\n",
       "      <td>0.778598</td>\n",
       "      <td>0.764493</td>\n",
       "      <td>6.252569</td>\n",
       "    </tr>\n",
       "    <tr>\n",
       "      <th>1</th>\n",
       "      <td>11.0</td>\n",
       "      <td>0.992857</td>\n",
       "      <td>0.838523</td>\n",
       "      <td>0.808118</td>\n",
       "      <td>0.786355</td>\n",
       "      <td>5.577293</td>\n",
       "    </tr>\n",
       "    <tr>\n",
       "      <th>2</th>\n",
       "      <td>21.0</td>\n",
       "      <td>0.996894</td>\n",
       "      <td>0.839247</td>\n",
       "      <td>0.815498</td>\n",
       "      <td>0.783688</td>\n",
       "      <td>5.552285</td>\n",
       "    </tr>\n",
       "    <tr>\n",
       "      <th>3</th>\n",
       "      <td>31.0</td>\n",
       "      <td>0.996894</td>\n",
       "      <td>0.838523</td>\n",
       "      <td>0.817343</td>\n",
       "      <td>0.781305</td>\n",
       "      <td>5.577296</td>\n",
       "    </tr>\n",
       "    <tr>\n",
       "      <th>4</th>\n",
       "      <td>41.0</td>\n",
       "      <td>0.997205</td>\n",
       "      <td>0.837075</td>\n",
       "      <td>0.813653</td>\n",
       "      <td>0.780531</td>\n",
       "      <td>5.627316</td>\n",
       "    </tr>\n",
       "    <tr>\n",
       "      <th>5</th>\n",
       "      <td>51.0</td>\n",
       "      <td>0.997516</td>\n",
       "      <td>0.837799</td>\n",
       "      <td>0.815498</td>\n",
       "      <td>0.780919</td>\n",
       "      <td>5.602306</td>\n",
       "    </tr>\n",
       "    <tr>\n",
       "      <th>6</th>\n",
       "      <td>61.0</td>\n",
       "      <td>0.997516</td>\n",
       "      <td>0.838523</td>\n",
       "      <td>0.815498</td>\n",
       "      <td>0.782301</td>\n",
       "      <td>5.577296</td>\n",
       "    </tr>\n",
       "    <tr>\n",
       "      <th>7</th>\n",
       "      <td>71.0</td>\n",
       "      <td>0.997516</td>\n",
       "      <td>0.837075</td>\n",
       "      <td>0.813653</td>\n",
       "      <td>0.780531</td>\n",
       "      <td>5.627316</td>\n",
       "    </tr>\n",
       "    <tr>\n",
       "      <th>8</th>\n",
       "      <td>81.0</td>\n",
       "      <td>0.997516</td>\n",
       "      <td>0.837799</td>\n",
       "      <td>0.811808</td>\n",
       "      <td>0.782918</td>\n",
       "      <td>5.602305</td>\n",
       "    </tr>\n",
       "    <tr>\n",
       "      <th>9</th>\n",
       "      <td>91.0</td>\n",
       "      <td>0.997516</td>\n",
       "      <td>0.837799</td>\n",
       "      <td>0.811808</td>\n",
       "      <td>0.782918</td>\n",
       "      <td>5.602305</td>\n",
       "    </tr>\n",
       "  </tbody>\n",
       "</table>\n",
       "</div>"
      ],
      "text/plain": [
       "      C  Train Accuracy  Test Accuracy  Test Recall  Test Precision  Log loss\n",
       "0   1.0        0.946584       0.818972     0.778598        0.764493  6.252569\n",
       "1  11.0        0.992857       0.838523     0.808118        0.786355  5.577293\n",
       "2  21.0        0.996894       0.839247     0.815498        0.783688  5.552285\n",
       "3  31.0        0.996894       0.838523     0.817343        0.781305  5.577296\n",
       "4  41.0        0.997205       0.837075     0.813653        0.780531  5.627316\n",
       "5  51.0        0.997516       0.837799     0.815498        0.780919  5.602306\n",
       "6  61.0        0.997516       0.838523     0.815498        0.782301  5.577296\n",
       "7  71.0        0.997516       0.837075     0.813653        0.780531  5.627316\n",
       "8  81.0        0.997516       0.837799     0.811808        0.782918  5.602305\n",
       "9  91.0        0.997516       0.837799     0.811808        0.782918  5.602305"
      ]
     },
     "execution_count": 143,
     "metadata": {},
     "output_type": "execute_result"
    }
   ],
   "source": [
    "matrix = np.matrix(np.c_[list_C, score_train, score_test, recall_test, precision_test,logloss_test])\n",
    "models = pd.DataFrame(data = matrix, columns = \n",
    "             ['C', 'Train Accuracy', 'Test Accuracy', 'Test Recall', 'Test Precision','Log loss'])\n",
    "models.head(n=10)"
   ]
  },
  {
   "cell_type": "code",
   "execution_count": 160,
   "metadata": {},
   "outputs": [
    {
     "data": {
      "text/plain": [
       "<matplotlib.legend.Legend at 0x299ba413da0>"
      ]
     },
     "execution_count": 160,
     "metadata": {},
     "output_type": "execute_result"
    },
    {
     "data": {
      "image/png": "[encoded data removed]",
      "text/plain": [
       "<Figure size 1152x576 with 1 Axes>"
      ]
     },
     "metadata": {
      "needs_background": "light"
     },
     "output_type": "display_data"
    }
   ],
   "source": [
    "#here we look into our plot for 3 parameter against the values of C\n",
    "plt.figure(figsize = (16, 8))\n",
    "plt.plot(models['C'],models['Test Precision'],'-r'\n",
    "         ,models['C'],models['Test Recall'],'-b'\n",
    "        ,models['C'],models['Test Accuracy'],'-g')\n",
    "plt.title(\"Test Precison/Recall/Accuracy vs C\")\n",
    "plt.grid()\n",
    "plt.xlabel('C')\n",
    "plt.ylabel('Values')\n",
    "plt.xticks(np.arange(0, 1500, 100))\n",
    "plt.legend(['Precison','Recall','Accuracy'])"
   ]
  },
  {
   "cell_type": "markdown",
   "metadata": {},
   "source": [
    "### In a spam classifier, if a non-spam message is classified as spam it can cause huge damage and should be considered as an extreme case. This category of missclassification is measured using Precision (includes False Positive), thus I have considered Precision as a metric for deciding our best classifier value"
   ]
  },
  {
   "cell_type": "code",
   "execution_count": 154,
   "metadata": {},
   "outputs": [
    {
     "data": {
      "text/plain": [
       "C                 11.000000\n",
       "Train Accuracy     0.992857\n",
       "Test Accuracy      0.838523\n",
       "Test Recall        0.808118\n",
       "Test Precision     0.786355\n",
       "Log loss           5.577293\n",
       "Name: 1, dtype: float64"
      ]
     },
     "execution_count": 154,
     "metadata": {},
     "output_type": "execute_result"
    }
   ],
   "source": [
    "best_index = models['Test Precision'].idxmax()\n",
    "models.iloc[best_index, :]"
   ]
  },
  {
   "cell_type": "code",
   "execution_count": 155,
   "metadata": {},
   "outputs": [
    {
     "data": {
      "text/plain": [
       "C                 11.000000\n",
       "Train Accuracy     0.992857\n",
       "Test Accuracy      0.838523\n",
       "Test Recall        0.808118\n",
       "Test Precision     0.786355\n",
       "Log loss           5.577293\n",
       "Name: 1, dtype: float64"
      ]
     },
     "execution_count": 155,
     "metadata": {},
     "output_type": "execute_result"
    }
   ],
   "source": [
    "#we use our best C value for further classifying\n",
    "svc = SVC(C=11)\n",
    "svc.fit(train_x, train_y)\n",
    "models.iloc[best_index, :]"
   ]
  },
  {
   "cell_type": "markdown",
   "metadata": {},
   "source": [
    "### Therefore our model yields Precision of 78% while Recall and Accuracy are around 80% on test set."
   ]
  }
 ],
 "metadata": {
  "kernelspec": {
   "display_name": "Python 3",
   "language": "python",
   "name": "python3"
  },
  "language_info": {
   "codemirror_mode": {
    "name": "ipython",
    "version": 3
   },
   "file_extension": ".py",
   "mimetype": "text/x-python",
   "name": "python",
   "nbconvert_exporter": "python",
   "pygments_lexer": "ipython3",
   "version": "3.7.1"
  }
 },
 "nbformat": 4,
 "nbformat_minor": 2
}
