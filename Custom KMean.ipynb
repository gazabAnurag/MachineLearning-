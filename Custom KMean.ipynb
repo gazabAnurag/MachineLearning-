{
 "cells": [
  {
   "cell_type": "code",
   "execution_count": 152,
   "metadata": {},
   "outputs": [],
   "source": [
    "import numpy as np\n",
    "import pandas as pd\n",
    "import matplotlib.pyplot as plt\n",
    "from sklearn.datasets import load_svmlight_files,load_svmlight_file\n",
    "from sklearn.metrics.pairwise import euclidean_distances\n",
    "from copy import deepcopy\n",
    "from random import randint\n",
    "import scipy as sp\n",
    "from scipy import sparse"
   ]
  },
  {
   "cell_type": "code",
   "execution_count": 84,
   "metadata": {},
   "outputs": [],
   "source": [
    "#load the data in SVMLight format\n",
    "iris_data = load_svmlight_file(\"Data/iris.scale\")\n",
    "#create a response decoding dictionary\n",
    "response_dict = {1:'Iris Setosa',2:'Iris Versicolour',3:'Iris Virginica'}"
   ]
  },
  {
   "cell_type": "code",
   "execution_count": 234,
   "metadata": {},
   "outputs": [],
   "source": [
    "def eucDist(x,y):\n",
    "    '''\n",
    "    measure euclidean distance\n",
    "    '''\n",
    "    diff = x-y\n",
    "    #print(type(diff))\n",
    "    return np.sqrt(diff.multiply(diff).sum(1))\n",
    "\n",
    "def clusterDist(data,centroid):\n",
    "    '''\n",
    "    Distance of a point from cluster\n",
    "    '''\n",
    "    cluster = np.zeros(data.shape[0])\n",
    "    for i in range(data.shape[0]):\n",
    "        cluster[i]=eucDist(data[i],centroid)\n",
    "    return cluster\n",
    "\n",
    "def findCentroid(data,k):\n",
    "    '''\n",
    "    Obtain centroid for k values\n",
    "    Start with random, then take the point distance from all previous centroids\n",
    "    '''\n",
    "    centroids = np.zeros((k,data.shape[1]))\n",
    "    centroids[0] = data[[randint(0,data.shape[0]-1)]].toarray()\n",
    "    dist = np.zeros((data.shape[0],k))\n",
    "    dist[:,0]  = clusterDist(data,sparse.csr_matrix(centroids[0]))\n",
    "    for cls in range(1,k):\n",
    "        centroids[cls] = data[np.argmax(dist.sum(axis=1))].toarray()\n",
    "        dist[:,cls]  = (clusterDist(data,sparse.csr_matrix(centroids[cls])))\n",
    "    #print(centroids)\n",
    "    return centroids\n",
    "\n",
    "def KMeanImproved(data,response,k):\n",
    "    '''\n",
    "    Perform the KMean \n",
    "    '''\n",
    "    cluster_point_new = {}\n",
    "    cluster_point_old = {}\n",
    "    first_pass = True\n",
    "    n= data.shape[0] #number of samples\n",
    "    centroid_old = np.zeros((k,data.shape[1]))# to store old centers\n",
    "    centroid_new = data[list(randint(0,data.shape[0]) for i in range(k))]  #create_centroids(data,k,centroid_new)\n",
    "    clusters = np.zeros(n)\n",
    "    dist = np.zeros((n,k)) #store the distance\n",
    "    while cluster_point_old != cluster_point_new or first_pass:\n",
    "        first_pass = False\n",
    "        for i in range(k):\n",
    "            dist[:,i] = clusterDist(data,centroid_new[i]) #calculate the distance from centroid to all point\n",
    "        clusters = np.array(np.argmin(dist, axis = 1))\n",
    "        cluster_point_old = deepcopy(cluster_point_new)\n",
    "        for i in range(k):\n",
    "            cluster_point_new[i] = list(np.argwhere(clusters == i).flatten()) #assign cluster points\n",
    "            centroid_new[i] = np.array(data[cluster_point_new[i]].mean(axis=0)) #create centroids\n",
    "    cluster_label = build_cluster_label(cluster_point_new,response) #create labels for centroids\n",
    "    return centroid_new,cluster_label,cluster_point_new\n",
    "\n",
    "def KMeanOptimized(data,response,k):\n",
    "    '''\n",
    "    Perform the KMean \n",
    "    '''\n",
    "    cluster_point_new = {}\n",
    "    cluster_point_old = {}\n",
    "    first_pass = True\n",
    "    n= data.shape[0] #number of samples\n",
    "\n",
    "    centroid_new = data[list(randint(0,data.shape[0]) for i in range(k))]  #create_centroids(data,k,centroid_new)\n",
    "    clusters = np.zeros(n)\n",
    "    dist = np.zeros((n,k)) #store the distance\n",
    "    while cluster_point_old != cluster_point_new or first_pass:\n",
    "        first_pass = False\n",
    "        for i in range(k):\n",
    "            dist[:,i] = clusterDist(data,centroid_new[i]) #calculate the distance from centroid to all point\n",
    "        clusters = np.array(np.argmin(dist, axis = 1))\n",
    "        cluster_point_old = deepcopy(cluster_point_new)\n",
    "        for i in range(k):\n",
    "            cluster_point_new[i] = list(np.argwhere(clusters == i).flatten()) #assign cluster points\n",
    "            centroid_new[i] = np.array(data[cluster_point_new[i]].mean(axis=0)) #create centroids\n",
    "    cluster_label = build_cluster_label(cluster_point_new,response) #create labels for centroids\n",
    "    return centroid_new,cluster_label,cluster_point_new\n",
    "\n",
    "def build_cluster_label(cluster_point_new,response):\n",
    "    cluster_label = {}\n",
    "    for index,value in cluster_point_new.items():\n",
    "        #print(type(value))\n",
    "        cluster_label[index] = round(np.sum(response[value])/len(response[value]))\n",
    "    return cluster_label\n",
    "    \n",
    "def predict(data,centroids,clusters,encoding_dict):\n",
    "    '''\n",
    "    Perform prediction \n",
    "    '''\n",
    "    pred_label = []\n",
    "    for row in data:\n",
    "        pred_label.append(clusters[np.argmin([clusterDist(row,sparse.csr_matrix(center)) for center in centroids])])\n",
    "    return pred_label\n",
    "\n",
    "def sse(data,clusters,centroid_new,k):\n",
    "    '''\n",
    "    Evaluate the intra cluster distance\n",
    "    '''\n",
    "    total_error = 0\n",
    "    for i in range(k):\n",
    "        total_error+=np.sum(clusterDist(data[clusters[i]],centroid_new[i]))\n",
    "    return total_error"
   ]
  },
  {
   "cell_type": "markdown",
   "metadata": {},
   "source": [
    "## Iris Dataset"
   ]
  },
  {
   "cell_type": "markdown",
   "metadata": {},
   "source": [
    "### We use elbow method, in which the elbow of the curve between the distortion and cluster value is taken as optimal k value"
   ]
  },
  {
   "cell_type": "code",
   "execution_count": 142,
   "metadata": {},
   "outputs": [],
   "source": [
    "#choose the best k value using elbow curve\n",
    "import time\n",
    "scores = {}\n",
    "times = {}\n",
    "#running for 5 different K values\n",
    "for k in range(5):\n",
    "    start = time.time()\n",
    "    centroids,cluster_label,clusters = KMeanImproved(iris_data[0],iris_data[1],k+1)\n",
    "    #print(clusters)\n",
    "    end = time.time()\n",
    "    scores[k+1] = (sse(iris_data[0],clusters,centroids,k+1))\n",
    "    times[k+1]= (end - start)\n",
    "    "
   ]
  },
  {
   "cell_type": "code",
   "execution_count": 166,
   "metadata": {},
   "outputs": [
    {
     "data": {
      "image/png": "[encoded data removed]",
      "text/plain": [
       "<Figure size 1440x720 with 1 Axes>"
      ]
     },
     "metadata": {
      "needs_background": "light"
     },
     "output_type": "display_data"
    }
   ],
   "source": [
    "plt.figure(figsize=(20, 10))\n",
    "plt.plot(scores.keys(),scores.values(),'-ro')\n",
    "plt.grid()\n",
    "plt.title(\"Within cluster distance vs K\")\n",
    "plt.xticks(range(1,6))\n",
    "plt.xlabel(\"K\")\n",
    "plt.ylabel(\"Distance\")\n",
    "plt.legend([\"Intra cluster distance\"])\n",
    "plt.show()"
   ]
  },
  {
   "cell_type": "markdown",
   "metadata": {},
   "source": [
    "### We can see the distance decrease and being flattened at around k = 3, hence we can use k as 3"
   ]
  },
  {
   "cell_type": "code",
   "execution_count": 165,
   "metadata": {},
   "outputs": [
    {
     "data": {
      "image/png": "[encoded data removed]",
      "text/plain": [
       "<Figure size 1440x720 with 1 Axes>"
      ]
     },
     "metadata": {
      "needs_background": "light"
     },
     "output_type": "display_data"
    }
   ],
   "source": [
    "plt.figure(figsize=(20, 10))\n",
    "plt.plot(times.keys(),times.values(),'-go')\n",
    "plt.grid()\n",
    "plt.title(\"Time to fit\")\n",
    "plt.xticks(range(1,6))\n",
    "plt.xlabel(\"K\")\n",
    "plt.ylabel(\"Duration\")\n",
    "plt.legend([\"Time for fitting\"])\n",
    "plt.show()"
   ]
  },
  {
   "cell_type": "markdown",
   "metadata": {},
   "source": [
    "### Performing a fitting and prediction step on KMeans and it's total time"
   ]
  },
  {
   "cell_type": "code",
   "execution_count": 235,
   "metadata": {},
   "outputs": [
    {
     "name": "stdout",
     "output_type": "stream",
     "text": [
      "Wall time: 2.3 s\n",
      "Wall time: 189 ms\n",
      "Wall time: 48.9 ms\n"
     ]
    },
    {
     "data": {
      "text/plain": [
       "58.55770236541426"
      ]
     },
     "execution_count": 235,
     "metadata": {},
     "output_type": "execute_result"
    }
   ],
   "source": [
    "%time centroids,cluster_label,clusters = KMeanImproved(iris_data[0],iris_data[1],3)\n",
    "%time predicted_class  = predict(iris_data[0],centroids,cluster_label,response_dict)\n",
    "%time sse(iris_data[0],clusters,centroids,3)"
   ]
  },
  {
   "cell_type": "markdown",
   "metadata": {},
   "source": [
    "#### The centroids  "
   ]
  },
  {
   "cell_type": "code",
   "execution_count": 243,
   "metadata": {},
   "outputs": [
    {
     "name": "stdout",
     "output_type": "stream",
     "text": [
      "[[-0.60777778  0.18166667 -0.84271174 -0.88000014]\n",
      " [-0.11748638 -0.38524591  0.15143093  0.09836071]\n",
      " [ 0.41452981 -0.09829064  0.59408938  0.64957267]]\n"
     ]
    }
   ],
   "source": [
    "print(centroids.toarray())"
   ]
  },
  {
   "cell_type": "code",
   "execution_count": 246,
   "metadata": {},
   "outputs": [
    {
     "name": "stdout",
     "output_type": "stream",
     "text": [
      "[1.0, 1.0, 1.0, 1.0, 1.0, 1.0, 1.0, 1.0, 1.0, 1.0, 1.0, 1.0, 1.0, 1.0, 1.0, 1.0, 1.0, 1.0, 1.0, 1.0, 1.0, 1.0, 1.0, 1.0, 1.0, 1.0, 1.0, 1.0, 1.0, 1.0, 1.0, 1.0, 1.0, 1.0, 1.0, 1.0, 1.0, 1.0, 1.0, 1.0, 1.0, 1.0, 1.0, 1.0, 1.0, 1.0, 1.0, 1.0, 1.0, 1.0, 3.0, 2.0, 3.0, 2.0, 2.0, 2.0, 2.0, 2.0, 2.0, 2.0, 2.0, 2.0, 2.0, 2.0, 2.0, 2.0, 2.0, 2.0, 2.0, 2.0, 2.0, 2.0, 2.0, 2.0, 2.0, 2.0, 2.0, 3.0, 2.0, 2.0, 2.0, 2.0, 2.0, 2.0, 2.0, 2.0, 2.0, 2.0, 2.0, 2.0, 2.0, 2.0, 2.0, 2.0, 2.0, 2.0, 2.0, 2.0, 2.0, 2.0, 3.0, 2.0, 3.0, 3.0, 3.0, 3.0, 2.0, 3.0, 3.0, 3.0, 3.0, 3.0, 3.0, 2.0, 3.0, 3.0, 3.0, 3.0, 3.0, 2.0, 3.0, 2.0, 3.0, 2.0, 3.0, 3.0, 2.0, 2.0, 3.0, 3.0, 3.0, 3.0, 3.0, 2.0, 2.0, 3.0, 3.0, 3.0, 2.0, 3.0, 3.0, 3.0, 2.0, 3.0, 3.0, 3.0, 2.0, 3.0, 3.0, 2.0]\n"
     ]
    }
   ],
   "source": [
    "print(predicted_class)"
   ]
  },
  {
   "cell_type": "markdown",
   "metadata": {},
   "source": [
    "## Cluster news article"
   ]
  },
  {
   "cell_type": "markdown",
   "metadata": {},
   "source": [
    "### Due to scalability we will create our lightSVM file using the vectorized text corpus and export it to more scalable platforms"
   ]
  },
  {
   "cell_type": "code",
   "execution_count": 239,
   "metadata": {},
   "outputs": [],
   "source": [
    "from sklearn.feature_extraction.text import TfidfVectorizer\n",
    "from sklearn.datasets import dump_svmlight_file\n",
    "\n",
    "\n",
    "def load_data(data):\n",
    "    '''\n",
    "    loads the data from subdirectory and creates response variable based on the folder name\n",
    "    '''\n",
    "    x = []\n",
    "    y = []\n",
    "    for category in os.listdir(data):\n",
    "        for fileName in os.listdir(data+\"/\"+str(category)):\n",
    "            with open(data+\"/\"+str(category)+\"/\"+str(fileName), 'r') as file:\n",
    "                x.append(file.read())\n",
    "                y.append(category)\n",
    "    return x, y\n",
    "\n",
    "def fetchStopWords():\n",
    "    '''\n",
    "    load the stop words from text file\n",
    "    '''\n",
    "    f = open(\"stopwords.txt\", \"r\")\n",
    "    stopwords = f.read()\n",
    "    return stopwords.split('\\n')\n",
    "\n",
    "def vectorize(train_data,test_data):\n",
    "    '''\n",
    "    Create a TF-IDF and transform both test and train\n",
    "    In real time this will be included as a pipeline component\n",
    "    '''\n",
    "    vectorizer = TfidfVectorizer(stop_words = fetchStopWords(),\n",
    "                                 min_df=10, \n",
    "                                 lowercase = True, \n",
    "                                 ngram_range=(1, 3))\n",
    "    v_train = vectorizer.fit_transform(train_data)\n",
    "    v_test = vectorizer.transform(test_data)\n",
    "    return v_train,v_test\n",
    "\n",
    "def createRespDict(train_response):\n",
    "    '''\n",
    "    Encode the response as numbers\n",
    "    '''\n",
    "    response_dict = {}\n",
    "    index = 1\n",
    "    for i in set(train_response):\n",
    "        response_dict[i] = index\n",
    "        index += 1\n",
    "    return response_dict"
   ]
  },
  {
   "cell_type": "code",
   "execution_count": 211,
   "metadata": {},
   "outputs": [
    {
     "name": "stdout",
     "output_type": "stream",
     "text": [
      "Wall time: 2min 46s\n",
      "Wall time: 1min 42s\n"
     ]
    }
   ],
   "source": [
    "#load the files into train and test splits\n",
    "%time X_train_words, y_train_words = load_data(\"Data/20news-bydate-train\")\n",
    "%time X_test_words, y_test_words = load_data(\"Data/20news-bydate-test\")"
   ]
  },
  {
   "cell_type": "code",
   "execution_count": 190,
   "metadata": {},
   "outputs": [],
   "source": [
    "#create the TfIDF vectors for the words\n",
    "X_train,X_test = vectorize(X_train_words,X_test_words)\n",
    "#encode the response values to numbers\n",
    "response_dict = createRespDict(y_train_words)\n",
    "#cast the values\n",
    "y_train = [response_dict[x] for x in y_train_words]\n",
    "y_test = [response_dict[x] for x in y_test_words]\n",
    "\n",
    "#create the SVMlight for both train and test data\n",
    "dump_svmlight_file(X_train, y_train, \"train\", zero_based=False,multilabel=False)\n",
    "dump_svmlight_file(X_test, y_test, \"test\", zero_based=False,multilabel=False)"
   ]
  },
  {
   "cell_type": "markdown",
   "metadata": {},
   "source": [
    "### We will use this file in the next notebook to produce data"
   ]
  },
  {
   "cell_type": "code",
   "execution_count": null,
   "metadata": {},
   "outputs": [],
   "source": []
  }
 ],
 "metadata": {
  "kernelspec": {
   "display_name": "Python 3",
   "language": "python",
   "name": "python3"
  },
  "language_info": {
   "codemirror_mode": {
    "name": "ipython",
    "version": 3
   },
   "file_extension": ".py",
   "mimetype": "text/x-python",
   "name": "python",
   "nbconvert_exporter": "python",
   "pygments_lexer": "ipython3",
   "version": "3.7.1"
  }
 },
 "nbformat": 4,
 "nbformat_minor": 2
}
